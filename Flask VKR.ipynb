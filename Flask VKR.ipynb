{
 "cells": [
  {
   "cell_type": "code",
   "execution_count": 1,
   "id": "90522c9f",
   "metadata": {},
   "outputs": [
    {
     "name": "stdout",
     "output_type": "stream",
     "text": [
      "Версия TensorFlow: 2.8.0\n"
     ]
    }
   ],
   "source": [
    "from flask import Flask, request, render_template\n",
    "import numpy as np\n",
    "import tensorflow as tf\n",
    "print(\"Версия TensorFlow:\", tf.__version__)\n",
    "app = Flask(__name__)"
   ]
  },
  {
   "cell_type": "code",
   "execution_count": 2,
   "id": "a3919115",
   "metadata": {},
   "outputs": [],
   "source": [
    "@app.route('/predict/')\n",
    "def get_prediction(strength):\n",
    "    model = tf.keras.models.load_model(r\"C:\\Users\\fesss\")\n",
    "    y_pred = model.predict(strength)\n",
    "    return f\"при заданных параметрах модуль упругости будет равенн {strength}\"\n"
   ]
  },
  {
   "cell_type": "code",
   "execution_count": null,
   "id": "463d75c6",
   "metadata": {},
   "outputs": [
    {
     "name": "stdout",
     "output_type": "stream",
     "text": [
      " * Serving Flask app \"__main__\" (lazy loading)\n",
      " * Environment: production\n",
      "\u001b[31m   WARNING: This is a development server. Do not use it in a production deployment.\u001b[0m\n",
      "\u001b[2m   Use a production WSGI server instead.\u001b[0m\n",
      " * Debug mode: off\n"
     ]
    },
    {
     "name": "stderr",
     "output_type": "stream",
     "text": [
      " * Running on http://127.0.0.1:5000/ (Press CTRL+C to quit)\n",
      "127.0.0.1 - - [26/Apr/2022 23:24:52] \"GET / HTTP/1.1\" 200 -\n",
      "127.0.0.1 - - [26/Apr/2022 23:24:52] \"GET /favicon.ico HTTP/1.1\" 404 -\n",
      "[2022-04-26 23:25:05,997] ERROR in app: Exception on /predict/ [GET]\n",
      "Traceback (most recent call last):\n",
      "  File \"C:\\Users\\fesss\\anaconda3\\lib\\site-packages\\flask\\app.py\", line 2447, in wsgi_app\n",
      "    response = self.full_dispatch_request()\n",
      "  File \"C:\\Users\\fesss\\anaconda3\\lib\\site-packages\\flask\\app.py\", line 1952, in full_dispatch_request\n",
      "    rv = self.handle_user_exception(e)\n",
      "  File \"C:\\Users\\fesss\\anaconda3\\lib\\site-packages\\flask\\app.py\", line 1821, in handle_user_exception\n",
      "    reraise(exc_type, exc_value, tb)\n",
      "  File \"C:\\Users\\fesss\\anaconda3\\lib\\site-packages\\flask\\_compat.py\", line 39, in reraise\n",
      "    raise value\n",
      "  File \"C:\\Users\\fesss\\anaconda3\\lib\\site-packages\\flask\\app.py\", line 1950, in full_dispatch_request\n",
      "    rv = self.dispatch_request()\n",
      "  File \"C:\\Users\\fesss\\anaconda3\\lib\\site-packages\\flask\\app.py\", line 1936, in dispatch_request\n",
      "    return self.view_functions[rule.endpoint](**req.view_args)\n",
      "TypeError: get_prediction() missing 1 required positional argument: 'strength'\n",
      "127.0.0.1 - - [26/Apr/2022 23:25:06] \"GET /predict/ HTTP/1.1\" 500 -\n"
     ]
    }
   ],
   "source": [
    "@app.route('/')\n",
    "def index():\n",
    "    return \"main\"\n",
    "@app.route('/predict/', methods=['post', 'get'])\n",
    "def processing():\n",
    "    message = ''\n",
    "    if request.method == 'POST':\n",
    "        strength = request.form.get('username')\n",
    "        strength_parameters = strength.split(\" \")\n",
    "        strength = [float(param) for param in strength_parameters]\n",
    "        strength = np.array([strength])\n",
    "        message = get_prediction(strength)\n",
    "    return render_template('login.html', message=message)\n",
    "if __name__ == '__main__':\n",
    "    app.run()"
   ]
  },
  {
   "cell_type": "code",
   "execution_count": null,
   "id": "1d34be32",
   "metadata": {},
   "outputs": [],
   "source": []
  },
  {
   "cell_type": "code",
   "execution_count": null,
   "id": "23a4f75e",
   "metadata": {},
   "outputs": [],
   "source": []
  },
  {
   "cell_type": "code",
   "execution_count": null,
   "id": "6d25b546",
   "metadata": {},
   "outputs": [],
   "source": []
  },
  {
   "cell_type": "code",
   "execution_count": null,
   "id": "53dd0177",
   "metadata": {},
   "outputs": [],
   "source": []
  }
 ],
 "metadata": {
  "kernelspec": {
   "display_name": "Python 3 (ipykernel)",
   "language": "python",
   "name": "python3"
  },
  "language_info": {
   "codemirror_mode": {
    "name": "ipython",
    "version": 3
   },
   "file_extension": ".py",
   "mimetype": "text/x-python",
   "name": "python",
   "nbconvert_exporter": "python",
   "pygments_lexer": "ipython3",
   "version": "3.9.7"
  }
 },
 "nbformat": 4,
 "nbformat_minor": 5
}
